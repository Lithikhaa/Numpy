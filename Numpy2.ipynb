{
  "nbformat": 4,
  "nbformat_minor": 0,
  "metadata": {
    "colab": {
      "provenance": []
    },
    "kernelspec": {
      "name": "python3",
      "display_name": "Python 3"
    },
    "language_info": {
      "name": "python"
    }
  },
  "cells": [
    {
      "cell_type": "markdown",
      "source": [
        "***Sorting***"
      ],
      "metadata": {
        "id": "A8Dpc27nMbVm"
      }
    },
    {
      "cell_type": "code",
      "source": [
        "import numpy as np"
      ],
      "metadata": {
        "id": "uOaKaXXQM2mD"
      },
      "execution_count": 2,
      "outputs": []
    },
    {
      "cell_type": "code",
      "execution_count": 3,
      "metadata": {
        "colab": {
          "base_uri": "https://localhost:8080/"
        },
        "id": "PYBOHy_AMXno",
        "outputId": "6f50c090-73f2-41d9-e3b5-0e2197ea5a34"
      },
      "outputs": [
        {
          "output_type": "stream",
          "name": "stdout",
          "text": [
            "[1 2 5 5 6 7 8 9]\n"
          ]
        }
      ],
      "source": [
        "n1 = np.array([2,5,8,1,6,9,5,7])\n",
        "print(np.sort(n1))\n",
        "#default axis is -1 -->axis = -1 same result will get without giving axis"
      ]
    },
    {
      "cell_type": "code",
      "source": [
        "n2 = np.array([[5,2,3],[4,9,1]])\n",
        "print(np.sort(n2))"
      ],
      "metadata": {
        "colab": {
          "base_uri": "https://localhost:8080/"
        },
        "id": "2eS4abGrMyCT",
        "outputId": "9d16df4f-cc4c-4963-f8cb-bbdaf459f5ab"
      },
      "execution_count": null,
      "outputs": [
        {
          "output_type": "stream",
          "name": "stdout",
          "text": [
            "[[2 3 5]\n",
            " [1 4 9]]\n"
          ]
        }
      ]
    },
    {
      "cell_type": "code",
      "source": [
        "# axis = 0 Column\n",
        "# axis = 1 Row\n",
        "#Column wise it sorted\n",
        "print(np.sort(n2,axis=0))"
      ],
      "metadata": {
        "colab": {
          "base_uri": "https://localhost:8080/"
        },
        "id": "wdvx7AOMNbc9",
        "outputId": "2fa6e2fe-bd82-445f-a3d5-ed5cc1adc1c9"
      },
      "execution_count": null,
      "outputs": [
        {
          "output_type": "stream",
          "name": "stdout",
          "text": [
            "[[4 2 1]\n",
            " [5 9 3]]\n"
          ]
        }
      ]
    },
    {
      "cell_type": "markdown",
      "source": [
        "***Reshaping and Array Conversions***"
      ],
      "metadata": {
        "id": "F0ypljOMOzge"
      }
    },
    {
      "cell_type": "code",
      "source": [
        "#n1 = np.array([2,5,8,1,6,9,5,7])\n",
        "n3 = n1.reshape(4,2) # 4-row 2-column\n",
        "print(n3)"
      ],
      "metadata": {
        "colab": {
          "base_uri": "https://localhost:8080/"
        },
        "id": "snUwcRsNN5IX",
        "outputId": "deb36425-6eeb-40e5-9993-ecd9321bb774"
      },
      "execution_count": null,
      "outputs": [
        {
          "output_type": "stream",
          "name": "stdout",
          "text": [
            "[[2 5]\n",
            " [8 1]\n",
            " [6 9]\n",
            " [5 7]]\n"
          ]
        }
      ]
    },
    {
      "cell_type": "code",
      "source": [
        "n4 = n1.reshape(2,4)\n",
        "print(n4)"
      ],
      "metadata": {
        "colab": {
          "base_uri": "https://localhost:8080/"
        },
        "id": "ud9IfQdstZ7K",
        "outputId": "36cc7b39-d114-4f55-b26c-9f80a318ef54"
      },
      "execution_count": null,
      "outputs": [
        {
          "output_type": "stream",
          "name": "stdout",
          "text": [
            "[[2 5 8 1]\n",
            " [6 9 5 7]]\n"
          ]
        }
      ]
    },
    {
      "cell_type": "code",
      "source": [
        "#Joining Two arrays\n",
        "n5 = np.arange(4)\n",
        "print(n5)\n",
        "n6 = np.arange(5,9)\n",
        "print(n6)\n",
        "n7 = np.concatenate((n5,n6))\n",
        "print(n7)"
      ],
      "metadata": {
        "colab": {
          "base_uri": "https://localhost:8080/"
        },
        "id": "hHRXCZ2HuHw-",
        "outputId": "7633c640-1aee-4fdb-c0d1-2977377c8d9b"
      },
      "execution_count": null,
      "outputs": [
        {
          "output_type": "stream",
          "name": "stdout",
          "text": [
            "[0 1 2 3]\n",
            "[5 6 7 8]\n",
            "[0 1 2 3 5 6 7 8]\n"
          ]
        }
      ]
    },
    {
      "cell_type": "code",
      "source": [
        "# Converting 1D into 2D\n",
        "\n",
        "n9 = n1[:,np.newaxis]\n",
        "print(n9)\n",
        "n10 = n1[np.newaxis,:]\n",
        "print(n10)"
      ],
      "metadata": {
        "colab": {
          "base_uri": "https://localhost:8080/"
        },
        "id": "S1Bi38dRu0yV",
        "outputId": "3cb35246-5162-4cf5-a5b7-b7a3b151c342"
      },
      "execution_count": null,
      "outputs": [
        {
          "output_type": "stream",
          "name": "stdout",
          "text": [
            "[[2]\n",
            " [5]\n",
            " [8]\n",
            " [1]\n",
            " [6]\n",
            " [9]\n",
            " [5]\n",
            " [7]]\n",
            "[[2 5 8 1 6 9 5 7]]\n"
          ]
        }
      ]
    },
    {
      "cell_type": "code",
      "source": [
        "n9.ndim\n"
      ],
      "metadata": {
        "colab": {
          "base_uri": "https://localhost:8080/"
        },
        "id": "-2D3vhb4w8ZO",
        "outputId": "51cef080-2b46-4e21-8866-59635b0d9b3e"
      },
      "execution_count": null,
      "outputs": [
        {
          "output_type": "execute_result",
          "data": {
            "text/plain": [
              "2"
            ]
          },
          "metadata": {},
          "execution_count": 27
        }
      ]
    },
    {
      "cell_type": "code",
      "source": [
        "n10.ndim"
      ],
      "metadata": {
        "colab": {
          "base_uri": "https://localhost:8080/"
        },
        "id": "8klIU1guxCIN",
        "outputId": "164e4e3b-a963-43c2-88c9-616795b2cf6e"
      },
      "execution_count": null,
      "outputs": [
        {
          "output_type": "execute_result",
          "data": {
            "text/plain": [
              "2"
            ]
          },
          "metadata": {},
          "execution_count": 28
        }
      ]
    },
    {
      "cell_type": "code",
      "source": [
        "n11 = np.arange(10)\n",
        "print(n11)\n"
      ],
      "metadata": {
        "id": "fOR9rMDiy0XU",
        "colab": {
          "base_uri": "https://localhost:8080/"
        },
        "outputId": "d2dd1b87-0f62-4705-e16b-84404332c98d"
      },
      "execution_count": 7,
      "outputs": [
        {
          "output_type": "stream",
          "name": "stdout",
          "text": [
            "[0 1 2 3 4 5 6 7 8 9]\n"
          ]
        }
      ]
    },
    {
      "cell_type": "code",
      "source": [
        "# expanding_dimension\n",
        "n12 = np.expand_dims(n11,axis = 1)\n",
        "print(n12)\n",
        "n13 = np.expand_dims(n11,axis = 0)\n",
        "print(n13)"
      ],
      "metadata": {
        "colab": {
          "base_uri": "https://localhost:8080/"
        },
        "id": "8vpRYvgWtgwM",
        "outputId": "18fbf141-db94-49a8-be6d-837f59b09bc4"
      },
      "execution_count": 17,
      "outputs": [
        {
          "output_type": "stream",
          "name": "stdout",
          "text": [
            "[[0]\n",
            " [1]\n",
            " [2]\n",
            " [3]\n",
            " [4]\n",
            " [5]\n",
            " [6]\n",
            " [7]\n",
            " [8]\n",
            " [9]]\n",
            "[[0 1 2 3 4 5 6 7 8 9]]\n"
          ]
        }
      ]
    },
    {
      "cell_type": "code",
      "source": [
        "n12.shape"
      ],
      "metadata": {
        "colab": {
          "base_uri": "https://localhost:8080/"
        },
        "id": "eDJjrNnDt-4q",
        "outputId": "2bb8ed03-1196-41d8-c5c2-4dd131131d48"
      },
      "execution_count": 12,
      "outputs": [
        {
          "output_type": "execute_result",
          "data": {
            "text/plain": [
              "(10, 1)"
            ]
          },
          "metadata": {},
          "execution_count": 12
        }
      ]
    },
    {
      "cell_type": "code",
      "source": [
        "n15 = np.arange(21,30).reshape(1,3,3)\n",
        "print(n15)"
      ],
      "metadata": {
        "colab": {
          "base_uri": "https://localhost:8080/"
        },
        "id": "Ts3Qgi0NuDGu",
        "outputId": "1aba9dca-00bc-47ea-ec8d-0da97a8c7fc2"
      },
      "execution_count": 26,
      "outputs": [
        {
          "output_type": "stream",
          "name": "stdout",
          "text": [
            "[[[21 22 23]\n",
            "  [24 25 26]\n",
            "  [27 28 29]]]\n"
          ]
        }
      ]
    },
    {
      "cell_type": "markdown",
      "source": [
        "***Indexing and Slicing***"
      ],
      "metadata": {
        "id": "ld0bR0us-E8M"
      }
    },
    {
      "cell_type": "code",
      "source": [
        "n16 = n15>=26\n",
        "print(n16)"
      ],
      "metadata": {
        "colab": {
          "base_uri": "https://localhost:8080/"
        },
        "id": "45gQUxgU75qD",
        "outputId": "b5eec353-3576-4e38-be0e-64c24cce8d05"
      },
      "execution_count": 29,
      "outputs": [
        {
          "output_type": "stream",
          "name": "stdout",
          "text": [
            "[[[False False False]\n",
            "  [False False  True]\n",
            "  [ True  True  True]]]\n"
          ]
        }
      ]
    },
    {
      "cell_type": "code",
      "source": [
        "n17 = n15<25\n",
        "print(n17)\n",
        "print(n15[n15<25])\n",
        "print(n15[(n15<25)&(n15>21)])"
      ],
      "metadata": {
        "colab": {
          "base_uri": "https://localhost:8080/"
        },
        "id": "KWC5lcpm99xp",
        "outputId": "e1f8c0a5-3144-46e5-bbca-9b68fe5fb685"
      },
      "execution_count": 34,
      "outputs": [
        {
          "output_type": "stream",
          "name": "stdout",
          "text": [
            "[[[ True  True  True]\n",
            "  [ True False False]\n",
            "  [False False False]]]\n",
            "[21 22 23 24]\n",
            "[22 23 24]\n"
          ]
        }
      ]
    },
    {
      "cell_type": "code",
      "source": [
        "print(np.nonzero(n15))"
      ],
      "metadata": {
        "colab": {
          "base_uri": "https://localhost:8080/"
        },
        "id": "rmAbI5a2-ZnJ",
        "outputId": "64522d15-285b-4cbb-dfb7-f347b3530a29"
      },
      "execution_count": 35,
      "outputs": [
        {
          "output_type": "stream",
          "name": "stdout",
          "text": [
            "(array([0, 0, 0, 0, 0, 0, 0, 0, 0]), array([0, 0, 0, 1, 1, 1, 2, 2, 2]), array([0, 1, 2, 0, 1, 2, 0, 1, 2]))\n"
          ]
        }
      ]
    },
    {
      "cell_type": "code",
      "source": [
        "n18 = np.arange(10,20)\n",
        "print(n18)\n",
        "print(n18[3:7])\n",
        "print(n18[3:7:2])  #2 - step size"
      ],
      "metadata": {
        "colab": {
          "base_uri": "https://localhost:8080/"
        },
        "id": "99CfR0rg_b7K",
        "outputId": "eeaeac1a-5fee-40d1-f613-c6407e1c5076"
      },
      "execution_count": 42,
      "outputs": [
        {
          "output_type": "stream",
          "name": "stdout",
          "text": [
            "[10 11 12 13 14 15 16 17 18 19]\n",
            "[13 14 15 16]\n",
            "[13 15]\n"
          ]
        }
      ]
    },
    {
      "cell_type": "markdown",
      "source": [
        "***Stack and Split***"
      ],
      "metadata": {
        "id": "fJS1p7bHAjy0"
      }
    },
    {
      "cell_type": "code",
      "source": [
        "#Hortizontal Stack Joining\n",
        "n19 = np.array ([[1,2],[3,4]])\n",
        "n20 = np.array([[5,6],[7,8]])\n",
        "n21 = np.hstack((n19,n20))\n",
        "print(n21)"
      ],
      "metadata": {
        "colab": {
          "base_uri": "https://localhost:8080/"
        },
        "id": "S8H1ynm0_kG4",
        "outputId": "423e0b15-4f2c-410d-e3e6-79241254a4ca"
      },
      "execution_count": 44,
      "outputs": [
        {
          "output_type": "stream",
          "name": "stdout",
          "text": [
            "[[1 2 5 6]\n",
            " [3 4 7 8]]\n"
          ]
        }
      ]
    },
    {
      "cell_type": "code",
      "source": [
        "#Vertical Stack Joining\n",
        "n19 = np.array ([[1,2],[3,4]])\n",
        "n20 = np.array([[5,6],[7,8]])\n",
        "n21 = np.vstack((n19,n20))\n",
        "print(n21)"
      ],
      "metadata": {
        "colab": {
          "base_uri": "https://localhost:8080/"
        },
        "id": "CB5Ht0oLBPd9",
        "outputId": "fd49ad7c-15fa-48ae-bf81-cac37b8087b6"
      },
      "execution_count": 45,
      "outputs": [
        {
          "output_type": "stream",
          "name": "stdout",
          "text": [
            "[[1 2]\n",
            " [3 4]\n",
            " [5 6]\n",
            " [7 8]]\n"
          ]
        }
      ]
    },
    {
      "cell_type": "code",
      "source": [
        "n20 = np.arange(20)\n",
        "print(n20)\n",
        "print(np.hsplit(n20,4))"
      ],
      "metadata": {
        "colab": {
          "base_uri": "https://localhost:8080/"
        },
        "id": "fDT49uyHBbBh",
        "outputId": "e766d8db-7197-4a06-e31b-fb2442435a0a"
      },
      "execution_count": 59,
      "outputs": [
        {
          "output_type": "stream",
          "name": "stdout",
          "text": [
            "[ 0  1  2  3  4  5  6  7  8  9 10 11 12 13 14 15 16 17 18 19]\n",
            "[array([0, 1, 2, 3, 4]), array([5, 6, 7, 8, 9]), array([10, 11, 12, 13, 14]), array([15, 16, 17, 18, 19])]\n"
          ]
        }
      ]
    },
    {
      "cell_type": "markdown",
      "source": [
        "***Copy***"
      ],
      "metadata": {
        "id": "0mhadIGXB-d6"
      }
    },
    {
      "cell_type": "code",
      "source": [
        "#Shallow copy\n",
        "n21 = n20\n",
        "n20[2] = 44\n",
        "print(n21)\n",
        "print(n20)"
      ],
      "metadata": {
        "colab": {
          "base_uri": "https://localhost:8080/"
        },
        "id": "httmV8EzBsHb",
        "outputId": "0de9c7ef-c5c8-4710-b6dc-76f2457654c8"
      },
      "execution_count": 60,
      "outputs": [
        {
          "output_type": "stream",
          "name": "stdout",
          "text": [
            "[ 0  1 44  3  4  5  6  7  8  9 10 11 12 13 14 15 16 17 18 19]\n",
            "[ 0  1 44  3  4  5  6  7  8  9 10 11 12 13 14 15 16 17 18 19]\n"
          ]
        }
      ]
    },
    {
      "cell_type": "code",
      "source": [
        "#Deep copy --> if we change in one array it will not change in another array\n",
        "n22 = n20.copy()\n",
        "n20[1] = 55\n",
        "print(n22)\n",
        "print(n20)"
      ],
      "metadata": {
        "colab": {
          "base_uri": "https://localhost:8080/"
        },
        "id": "PdEo65tbCPU8",
        "outputId": "db304d4d-788b-49e2-f990-ae91c5f23980"
      },
      "execution_count": 63,
      "outputs": [
        {
          "output_type": "stream",
          "name": "stdout",
          "text": [
            "[ 0  1 44  3  4  5  6  7  8  9 10 11 12 13 14 15 16 17 18 19]\n",
            "[ 0 55 44  3  4  5  6  7  8  9 10 11 12 13 14 15 16 17 18 19]\n"
          ]
        }
      ]
    },
    {
      "cell_type": "markdown",
      "source": [
        "***Math and Random***"
      ],
      "metadata": {
        "id": "KlfQZyOkEz9J"
      }
    },
    {
      "cell_type": "code",
      "source": [
        "n23 = np.arange(0,6)\n",
        "n24 = np.arange(6,12)\n",
        "print(n23)\n",
        "print(n24)\n",
        "print(n23+n24)\n",
        "print(n23-n24)\n",
        "print(n23*n24)\n",
        "print(n23/n24)\n",
        "print(n23%n24)\n",
        "print(n23.sum())\n",
        "print(n23.min())\n",
        "print(n23.max())\n",
        "print(n23.mean())\n",
        "print(n23.std())"
      ],
      "metadata": {
        "colab": {
          "base_uri": "https://localhost:8080/"
        },
        "id": "h1Voxmg8Csth",
        "outputId": "95612253-f4db-480c-ca39-c35e8c6aab56"
      },
      "execution_count": 67,
      "outputs": [
        {
          "output_type": "stream",
          "name": "stdout",
          "text": [
            "[0 1 2 3 4 5]\n",
            "[ 6  7  8  9 10 11]\n",
            "[ 6  8 10 12 14 16]\n",
            "[-6 -6 -6 -6 -6 -6]\n",
            "[ 0  7 16 27 40 55]\n",
            "[0.         0.14285714 0.25       0.33333333 0.4        0.45454545]\n",
            "[0 1 2 3 4 5]\n",
            "15\n",
            "0\n",
            "5\n",
            "2.5\n",
            "1.707825127659933\n"
          ]
        }
      ]
    },
    {
      "cell_type": "code",
      "source": [
        "np.random.rand(3,3)"
      ],
      "metadata": {
        "colab": {
          "base_uri": "https://localhost:8080/"
        },
        "id": "2AjZdk0kFB0P",
        "outputId": "b921c58d-ac06-43d7-cdc8-b9fa9cbb1d47"
      },
      "execution_count": 68,
      "outputs": [
        {
          "output_type": "execute_result",
          "data": {
            "text/plain": [
              "array([[0.90792501, 0.88558271, 0.62378596],\n",
              "       [0.02851878, 0.66125882, 0.51389701],\n",
              "       [0.31344915, 0.73970896, 0.33224877]])"
            ]
          },
          "metadata": {},
          "execution_count": 68
        }
      ]
    },
    {
      "cell_type": "code",
      "source": [
        "np.random.randint(100,size=(4,2))"
      ],
      "metadata": {
        "colab": {
          "base_uri": "https://localhost:8080/"
        },
        "id": "i1IMlEgsF3w_",
        "outputId": "c5d0a04a-b4e5-486e-8e44-a9f3187ddc60"
      },
      "execution_count": 69,
      "outputs": [
        {
          "output_type": "execute_result",
          "data": {
            "text/plain": [
              "array([[81, 16],\n",
              "       [ 8,  4],\n",
              "       [89, 62],\n",
              "       [ 8, 13]])"
            ]
          },
          "metadata": {},
          "execution_count": 69
        }
      ]
    },
    {
      "cell_type": "code",
      "source": [],
      "metadata": {
        "id": "o8597mPyF7tR"
      },
      "execution_count": null,
      "outputs": []
    }
  ]
}