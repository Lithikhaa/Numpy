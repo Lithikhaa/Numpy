{
  "nbformat": 4,
  "nbformat_minor": 0,
  "metadata": {
    "colab": {
      "provenance": []
    },
    "kernelspec": {
      "name": "python3",
      "display_name": "Python 3"
    },
    "language_info": {
      "name": "python"
    }
  },
  "cells": [
    {
      "cell_type": "markdown",
      "source": [
        "# *What is List?*\n",
        "\n",
        "List used to Store collection of elements\n",
        "\n",
        "Dynamic size: Lists can grow and shrink in size dynamically.\n",
        "\n",
        "Heterogeneous elements: Lists can contain elements of different data types.\n",
        "\n",
        "Built-in methods: Lists have many built-in methods for manipulation (e.g., append(), remove(), sort()).\n",
        "\n",
        "\n",
        "\n",
        "\n",
        "\n",
        "\n"
      ],
      "metadata": {
        "id": "GWB2t2ZzEL-w"
      }
    },
    {
      "cell_type": "code",
      "execution_count": 1,
      "metadata": {
        "colab": {
          "base_uri": "https://localhost:8080/"
        },
        "id": "pC8U2egz_4OT",
        "outputId": "9a1f5222-3894-47d8-da64-2def4786ae59"
      },
      "outputs": [
        {
          "output_type": "stream",
          "name": "stdout",
          "text": [
            "[1, 2, 'a', 3.5, True, 'new_item']\n"
          ]
        }
      ],
      "source": [
        "my_list = [1, 2, 'a', 3.5, True]\n",
        "\n",
        "my_list.append('new_item')\n",
        "\n",
        "print(my_list)\n",
        "\n",
        "\n"
      ]
    },
    {
      "cell_type": "markdown",
      "source": [
        "#***Why we need Array, we already have a list?***\n",
        "\n",
        "#*What is Array?*\n",
        "\n",
        "Fixed size: Arrays have a fixed size and require explicit resizing.\n",
        "\n",
        "Homogeneous elements: Arrays typically contain elements of the same data type.\n",
        "\n",
        "Efficient memory usage: Arrays are more memory efficient for large datasets of the same type.\n",
        "\n",
        "Requires import: Arrays are available in Python through the array module or libraries like numpy.\n",
        "\n",
        "\n"
      ],
      "metadata": {
        "id": "PULclhr0Ft4f"
      }
    },
    {
      "cell_type": "markdown",
      "source": [
        "\n",
        "**Memory Allocation in Array:**\n",
        "\n",
        " Arrays allocate memory in a contiguous block. This means that all elements are stored next to each other in memory.\n",
        "\n",
        "**Memory Allocation in List:**\n",
        "\n",
        "each element of the list is a reference (or pointer) to an object stored somewhere in memory. These references themselves are stored in contiguous memory locations within the list, but the objects they point to can be scattered across the memory heap.\n",
        "\n",
        "The list itself is stored at contiguous memory locations [0x1a, 0x1b, 0x1c, 0x1d].\n",
        "\n",
        "Each element of the list is a reference pointing to objects at 0x100, 0x200, 0x300, and 0x400."
      ],
      "metadata": {
        "id": "sYMjAtzML4G4"
      }
    },
    {
      "cell_type": "code",
      "source": [
        "import numpy as np\n",
        "\n",
        "my_array = np.array([1, 2, 3, 4, 5])\n",
        "my_array = np.append(my_array, 6)\n",
        "print(my_array)\n",
        "\n"
      ],
      "metadata": {
        "colab": {
          "base_uri": "https://localhost:8080/"
        },
        "id": "Z0P1eiDQFoIe",
        "outputId": "83f67bf6-f634-48f1-d0f8-0c80b3cc2092"
      },
      "execution_count": 2,
      "outputs": [
        {
          "output_type": "stream",
          "name": "stdout",
          "text": [
            "[1 2 3 4 5 6]\n"
          ]
        }
      ]
    },
    {
      "cell_type": "markdown",
      "source": [
        "#***Numpy***\n",
        "NumPy is a Python library used for working with arrays\n"
      ],
      "metadata": {
        "id": "241q7RTvN3Ed"
      }
    },
    {
      "cell_type": "code",
      "source": [
        "import numpy as np\n"
      ],
      "metadata": {
        "id": "UMm1fUBEN2pM"
      },
      "execution_count": 3,
      "outputs": []
    },
    {
      "cell_type": "code",
      "source": [
        "oned_array = np.array([1,2,3,4,5])\n",
        "print('1d_array:',oned_array)"
      ],
      "metadata": {
        "colab": {
          "base_uri": "https://localhost:8080/"
        },
        "id": "ecTQdNfYG11c",
        "outputId": "fb8b45be-480e-443e-c388-49d6f44c8ddf"
      },
      "execution_count": 20,
      "outputs": [
        {
          "output_type": "stream",
          "name": "stdout",
          "text": [
            "1d_array: [1 2 3 4 5]\n"
          ]
        }
      ]
    },
    {
      "cell_type": "code",
      "source": [
        "twod_array = np.array([[1,2,3,4,5],[6,7,8,9,10]])\n",
        "print('2d_array:',twod_array)   # 2row 4column"
      ],
      "metadata": {
        "colab": {
          "base_uri": "https://localhost:8080/"
        },
        "id": "uv_yotKmWNkP",
        "outputId": "92355280-b4e4-429f-cc62-c0239318840a"
      },
      "execution_count": 21,
      "outputs": [
        {
          "output_type": "stream",
          "name": "stdout",
          "text": [
            "2d_array: [[ 1  2  3  4  5]\n",
            " [ 6  7  8  9 10]]\n"
          ]
        }
      ]
    },
    {
      "cell_type": "code",
      "source": [
        "threed_array = np.array([[[1,2,3],[4,5,6],[7,8,9]],\n",
        "                        [[10,11,12],[13,14,15],[16,17,18]],[[19,20,21],[22,23,24],[25,26,27]]])\n",
        "print('3d_array:', threed_array)"
      ],
      "metadata": {
        "colab": {
          "base_uri": "https://localhost:8080/"
        },
        "id": "QeujvuXaWdQ0",
        "outputId": "350d5e2c-16d1-454f-c46f-13828013e83a"
      },
      "execution_count": 22,
      "outputs": [
        {
          "output_type": "stream",
          "name": "stdout",
          "text": [
            "3d_array: [[[ 1  2  3]\n",
            "  [ 4  5  6]\n",
            "  [ 7  8  9]]\n",
            "\n",
            " [[10 11 12]\n",
            "  [13 14 15]\n",
            "  [16 17 18]]\n",
            "\n",
            " [[19 20 21]\n",
            "  [22 23 24]\n",
            "  [25 26 27]]]\n"
          ]
        }
      ]
    },
    {
      "cell_type": "code",
      "source": [
        "n3 = np.zeros([3,4])\n",
        "print(n3)"
      ],
      "metadata": {
        "colab": {
          "base_uri": "https://localhost:8080/"
        },
        "id": "gYyIiCEgZNfd",
        "outputId": "e158b39b-384a-4c57-8c17-23461b151e8e"
      },
      "execution_count": 35,
      "outputs": [
        {
          "output_type": "stream",
          "name": "stdout",
          "text": [
            "[[0. 0. 0. 0.]\n",
            " [0. 0. 0. 0.]\n",
            " [0. 0. 0. 0.]]\n"
          ]
        }
      ]
    },
    {
      "cell_type": "code",
      "source": [
        "n3 = np.zeros([3,4],dtype = int)\n",
        "print(n3)"
      ],
      "metadata": {
        "colab": {
          "base_uri": "https://localhost:8080/"
        },
        "id": "Eq4zHYHtnA_V",
        "outputId": "3acd4230-a8d1-4c4a-8545-27677a041cc4"
      },
      "execution_count": 36,
      "outputs": [
        {
          "output_type": "stream",
          "name": "stdout",
          "text": [
            "[[0 0 0 0]\n",
            " [0 0 0 0]\n",
            " [0 0 0 0]]\n"
          ]
        }
      ]
    },
    {
      "cell_type": "code",
      "source": [
        "n4 = np.ones([3,4],dtype = int)\n",
        "print(n4) #2d_array"
      ],
      "metadata": {
        "colab": {
          "base_uri": "https://localhost:8080/"
        },
        "id": "t2apiM-Kn5hS",
        "outputId": "42420b00-210a-4acd-a08f-273176328371"
      },
      "execution_count": 42,
      "outputs": [
        {
          "output_type": "stream",
          "name": "stdout",
          "text": [
            "[[1 1 1 1]\n",
            " [1 1 1 1]\n",
            " [1 1 1 1]]\n"
          ]
        }
      ]
    },
    {
      "cell_type": "code",
      "source": [
        "n5 = np.ones([3,2,4],dtype = int)\n",
        "print(n5)  #3d_array"
      ],
      "metadata": {
        "colab": {
          "base_uri": "https://localhost:8080/"
        },
        "id": "shpuCUsXo20Q",
        "outputId": "a1321f1f-06d3-4624-9ca3-1d77bfc259db"
      },
      "execution_count": 47,
      "outputs": [
        {
          "output_type": "stream",
          "name": "stdout",
          "text": [
            "[[[1 1 1 1]\n",
            "  [1 1 1 1]]\n",
            "\n",
            " [[1 1 1 1]\n",
            "  [1 1 1 1]]\n",
            "\n",
            " [[1 1 1 1]\n",
            "  [1 1 1 1]]]\n"
          ]
        }
      ]
    },
    {
      "cell_type": "code",
      "source": [
        "#some random junk values contains while creating empty\n",
        "n6 = np.empty([2,4])\n",
        "print(n6)"
      ],
      "metadata": {
        "colab": {
          "base_uri": "https://localhost:8080/"
        },
        "id": "jwbdKYaSwK75",
        "outputId": "b74dffee-4244-4fb6-de3a-89075411cfaa"
      },
      "execution_count": 53,
      "outputs": [
        {
          "output_type": "stream",
          "name": "stdout",
          "text": [
            "[[4.99435141e-310 0.00000000e+000 0.00000000e+000 0.00000000e+000]\n",
            " [0.00000000e+000 0.00000000e+000 0.00000000e+000 0.00000000e+000]]\n"
          ]
        }
      ]
    },
    {
      "cell_type": "code",
      "source": [
        "# To create a array with range\n",
        "n7 = np.arange(10)\n",
        "print(n7)"
      ],
      "metadata": {
        "colab": {
          "base_uri": "https://localhost:8080/"
        },
        "id": "P4_nhsI3wXyk",
        "outputId": "14c8385f-5178-4c8a-ae92-5b485307d51c"
      },
      "execution_count": 62,
      "outputs": [
        {
          "output_type": "stream",
          "name": "stdout",
          "text": [
            "[0 1 2 3 4 5 6 7 8 9]\n"
          ]
        }
      ]
    },
    {
      "cell_type": "code",
      "source": [
        "# start,end,step(2,20,2)\n",
        "n7 = np.arange(2,20,2)\n",
        "print(n7)"
      ],
      "metadata": {
        "colab": {
          "base_uri": "https://localhost:8080/"
        },
        "id": "n-gqplwNw2L_",
        "outputId": "5479980f-f8a2-4fb5-8791-fc91ddc76628"
      },
      "execution_count": 63,
      "outputs": [
        {
          "output_type": "stream",
          "name": "stdout",
          "text": [
            "[ 2  4  6  8 10 12 14 16 18]\n"
          ]
        }
      ]
    },
    {
      "cell_type": "markdown",
      "source": [
        "***Linspace***\n",
        "\n",
        "This used to create linearly spaced values"
      ],
      "metadata": {
        "id": "FaSsLOj0yLuO"
      }
    },
    {
      "cell_type": "code",
      "source": [
        "# start,end,no_of_generating_elements (1,10,5)\n",
        "n8 = np.linspace(1,10,5,dtype=None)\n",
        "print(n8)"
      ],
      "metadata": {
        "colab": {
          "base_uri": "https://localhost:8080/"
        },
        "id": "zkWWfdzUx6JX",
        "outputId": "a1c7921f-ed39-4809-d562-a5e2e4cf735e"
      },
      "execution_count": 71,
      "outputs": [
        {
          "output_type": "stream",
          "name": "stdout",
          "text": [
            "[ 1.    3.25  5.5   7.75 10.  ]\n"
          ]
        }
      ]
    },
    {
      "cell_type": "code",
      "source": [
        "n9 = np.full([3,2,4],5)\n",
        "print(n9)"
      ],
      "metadata": {
        "colab": {
          "base_uri": "https://localhost:8080/"
        },
        "id": "bdL04eE8zFc2",
        "outputId": "855bdc68-246d-4026-e24b-3cc82c91fc12"
      },
      "execution_count": 78,
      "outputs": [
        {
          "output_type": "stream",
          "name": "stdout",
          "text": [
            "[[[5 5 5 5]\n",
            "  [5 5 5 5]]\n",
            "\n",
            " [[5 5 5 5]\n",
            "  [5 5 5 5]]\n",
            "\n",
            " [[5 5 5 5]\n",
            "  [5 5 5 5]]]\n"
          ]
        }
      ]
    },
    {
      "cell_type": "code",
      "source": [
        "n6.fill(7)\n",
        "print(n6)"
      ],
      "metadata": {
        "colab": {
          "base_uri": "https://localhost:8080/"
        },
        "id": "mG083m-E0CDN",
        "outputId": "88e1c1ef-e79b-4f40-edf9-2cc0a19686d0"
      },
      "execution_count": 81,
      "outputs": [
        {
          "output_type": "stream",
          "name": "stdout",
          "text": [
            "[[7. 7. 7. 7.]\n",
            " [7. 7. 7. 7.]]\n"
          ]
        }
      ]
    },
    {
      "cell_type": "markdown",
      "source": [
        "***Accessing Elements***"
      ],
      "metadata": {
        "id": "SKfkXkYv1ORA"
      }
    },
    {
      "cell_type": "code",
      "source": [
        "n10 = np.array([1,2,3,4,5])\n",
        "print(n10)"
      ],
      "metadata": {
        "colab": {
          "base_uri": "https://localhost:8080/"
        },
        "id": "9S3uWhjW0ta1",
        "outputId": "7d55a6f2-8d51-4960-93be-828ec5eca4ec"
      },
      "execution_count": 87,
      "outputs": [
        {
          "output_type": "stream",
          "name": "stdout",
          "text": [
            "[1 2 3 4 5]\n"
          ]
        }
      ]
    },
    {
      "cell_type": "code",
      "source": [
        "print(n10[0])\n",
        "print(n10[-1])\n",
        "print(n10[1:4])\n"
      ],
      "metadata": {
        "colab": {
          "base_uri": "https://localhost:8080/"
        },
        "id": "Ix0mW-Tv2GHO",
        "outputId": "03af7bc2-54d8-46c8-fbaa-443bec28dd09"
      },
      "execution_count": 90,
      "outputs": [
        {
          "output_type": "stream",
          "name": "stdout",
          "text": [
            "1\n",
            "5\n",
            "[2 3 4]\n"
          ]
        }
      ]
    },
    {
      "cell_type": "code",
      "source": [
        "# ([[1,2,3,4,5],[6,7,8,9,10]])\n",
        "n11 = twod_array[1]\n",
        "print(n11)"
      ],
      "metadata": {
        "colab": {
          "base_uri": "https://localhost:8080/"
        },
        "id": "zwa1GfFx2Qgn",
        "outputId": "57fd4978-b1b8-4904-eefc-418d74a6e0f8"
      },
      "execution_count": 91,
      "outputs": [
        {
          "output_type": "stream",
          "name": "stdout",
          "text": [
            "[ 6  7  8  9 10]\n"
          ]
        }
      ]
    },
    {
      "cell_type": "code",
      "source": [
        "# ([[1,2,3,4,5],[6,7,8,9,10]])\n",
        "n11 = twod_array[1,3]\n",
        "print(n11)\n",
        "print(twod_array[1,1:])\n",
        "print(twod_array[0,:])\n",
        "print(twod_array[0,:3])\n",
        "print(twod_array[:,2])\n",
        "print(twod_array[:,:2])"
      ],
      "metadata": {
        "colab": {
          "base_uri": "https://localhost:8080/"
        },
        "id": "dRFJyrCG3Oao",
        "outputId": "74f903c3-b12b-4a6e-fd95-59ada229b373"
      },
      "execution_count": 103,
      "outputs": [
        {
          "output_type": "stream",
          "name": "stdout",
          "text": [
            "9\n",
            "[ 7  8  9 10]\n",
            "[1 2 3 4 5]\n",
            "[1 2 3]\n",
            "[3 8]\n",
            "[[1 2]\n",
            " [6 7]]\n"
          ]
        }
      ]
    },
    {
      "cell_type": "code",
      "source": [
        "'''([[[1,2,3],[4,5,6],[7,8,9]],\n",
        "[[10,11,12],[13,14,15],[16,17,18]],\n",
        " [[19,20,21],[22,23,24],[25,26,27]]])'''\n",
        "\n",
        "\n",
        "print(threed_array[1,1,1]) # matrix,row,column(1,1,1)\n",
        "n12 = threed_array\n",
        "print(n12)\n",
        "\n",
        "# Modifying 14 to 20\n",
        "n12[1,1,1] = 29\n",
        "print(n12)"
      ],
      "metadata": {
        "colab": {
          "base_uri": "https://localhost:8080/"
        },
        "id": "lVshYw2s3z7g",
        "outputId": "a41e7348-a6f4-490b-9751-130394ba7456"
      },
      "execution_count": 111,
      "outputs": [
        {
          "output_type": "stream",
          "name": "stdout",
          "text": [
            "14\n",
            "[[[ 1  2  3]\n",
            "  [ 4  5  6]\n",
            "  [ 7  8  9]]\n",
            "\n",
            " [[10 11 12]\n",
            "  [13 14 15]\n",
            "  [16 17 18]]\n",
            "\n",
            " [[19 20 21]\n",
            "  [22 23 24]\n",
            "  [25 26 27]]]\n",
            "[[[ 1  2  3]\n",
            "  [ 4  5  6]\n",
            "  [ 7  8  9]]\n",
            "\n",
            " [[10 11 12]\n",
            "  [13 29 15]\n",
            "  [16 17 18]]\n",
            "\n",
            " [[19 20 21]\n",
            "  [22 23 24]\n",
            "  [25 26 27]]]\n"
          ]
        }
      ]
    },
    {
      "cell_type": "markdown",
      "source": [
        "***Size and Shape***"
      ],
      "metadata": {
        "id": "CqxOVHVP76CP"
      }
    },
    {
      "cell_type": "code",
      "source": [
        "print(twod_array)"
      ],
      "metadata": {
        "colab": {
          "base_uri": "https://localhost:8080/"
        },
        "id": "MjmMuoV08bXs",
        "outputId": "1eba942e-3fea-4b57-b0d6-ab6458493f53"
      },
      "execution_count": 115,
      "outputs": [
        {
          "output_type": "stream",
          "name": "stdout",
          "text": [
            "[[ 1  2  3  4  5]\n",
            " [ 6  7  8  9 10]]\n"
          ]
        }
      ]
    },
    {
      "cell_type": "code",
      "source": [
        "# To check the dimension of array\n",
        "twod_array.ndim"
      ],
      "metadata": {
        "colab": {
          "base_uri": "https://localhost:8080/"
        },
        "id": "bhrSHRCx520U",
        "outputId": "1c4f3360-845a-41cf-f82c-38f1bb95e57d"
      },
      "execution_count": 112,
      "outputs": [
        {
          "output_type": "execute_result",
          "data": {
            "text/plain": [
              "2"
            ]
          },
          "metadata": {},
          "execution_count": 112
        }
      ]
    },
    {
      "cell_type": "code",
      "source": [
        "twod_array.shape\n"
      ],
      "metadata": {
        "colab": {
          "base_uri": "https://localhost:8080/"
        },
        "id": "Lv8z9RiV8S7U",
        "outputId": "860ffd4d-6c21-49a7-becd-8fc4ee3702cf"
      },
      "execution_count": 114,
      "outputs": [
        {
          "output_type": "execute_result",
          "data": {
            "text/plain": [
              "(2, 5)"
            ]
          },
          "metadata": {},
          "execution_count": 114
        }
      ]
    },
    {
      "cell_type": "code",
      "source": [
        "#Total no of element in 2d_array\n",
        "twod_array.size"
      ],
      "metadata": {
        "colab": {
          "base_uri": "https://localhost:8080/"
        },
        "id": "LVGcK-Re8SCa",
        "outputId": "be368819-9a9a-479b-b882-049b60868319"
      },
      "execution_count": 116,
      "outputs": [
        {
          "output_type": "execute_result",
          "data": {
            "text/plain": [
              "10"
            ]
          },
          "metadata": {},
          "execution_count": 116
        }
      ]
    },
    {
      "cell_type": "code",
      "source": [
        "print(twod_array.dtype)\n"
      ],
      "metadata": {
        "colab": {
          "base_uri": "https://localhost:8080/"
        },
        "id": "O-R0j8ie8leF",
        "outputId": "2872aef9-0100-4905-8205-3343db3477a9"
      },
      "execution_count": 120,
      "outputs": [
        {
          "output_type": "stream",
          "name": "stdout",
          "text": [
            "int64\n"
          ]
        }
      ]
    },
    {
      "cell_type": "code",
      "source": [
        "#To store each element it need 8Bytes\n",
        "print(twod_array.itemsize)"
      ],
      "metadata": {
        "colab": {
          "base_uri": "https://localhost:8080/"
        },
        "id": "VHE3AjXQ80c1",
        "outputId": "fc2bf401-a322-4390-8320-9b855edb7d6a"
      },
      "execution_count": 121,
      "outputs": [
        {
          "output_type": "stream",
          "name": "stdout",
          "text": [
            "8\n"
          ]
        }
      ]
    },
    {
      "cell_type": "code",
      "source": [
        "#To store all the elements it need this much bytes\n",
        "print(twod_array.nbytes)"
      ],
      "metadata": {
        "colab": {
          "base_uri": "https://localhost:8080/"
        },
        "id": "AQyrLvx39LYn",
        "outputId": "61a51046-d69d-4675-c9b1-d6c6711ac2d1"
      },
      "execution_count": 124,
      "outputs": [
        {
          "output_type": "stream",
          "name": "stdout",
          "text": [
            "80\n"
          ]
        }
      ]
    },
    {
      "cell_type": "code",
      "source": [],
      "metadata": {
        "id": "MvxOoBrW9oAd"
      },
      "execution_count": null,
      "outputs": []
    }
  ]
}