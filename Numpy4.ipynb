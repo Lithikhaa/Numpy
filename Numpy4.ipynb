{
  "nbformat": 4,
  "nbformat_minor": 0,
  "metadata": {
    "colab": {
      "provenance": []
    },
    "kernelspec": {
      "name": "python3",
      "display_name": "Python 3"
    },
    "language_info": {
      "name": "python"
    }
  },
  "cells": [
    {
      "cell_type": "code",
      "execution_count": null,
      "metadata": {
        "colab": {
          "base_uri": "https://localhost:8080/"
        },
        "id": "kvy41GDlPnLG",
        "outputId": "50279c84-c980-4be9-e9de-a6b25690b3bb"
      },
      "outputs": [
        {
          "output_type": "stream",
          "name": "stdout",
          "text": [
            "Average: 30.0\n"
          ]
        }
      ],
      "source": [
        "import numpy as np\n",
        "\n",
        "# Create an array\n",
        "data = np.array([10, 20, 30, 40, 50])\n",
        "\n",
        "# Calculate the average\n",
        "average = np.mean(data)\n",
        "\n",
        "print(\"Average:\", average)\n"
      ]
    },
    {
      "cell_type": "code",
      "source": [
        "import numpy as np\n",
        "\n",
        "T = np.array([[11, 12, 5, 2], [15, 6, 10, 7],\n",
        " [10, 8, 12, 5], [12, 15, 8, 6]])\n",
        "\n",
        "# Calculate row-wise averages\n",
        "row_averages = np.mean(T, axis=1)\n",
        "\n",
        "# Calculate column-wise averages\n",
        "column_averages = np.mean(T, axis=0)\n",
        "\n",
        "print(\"Row-wise averages:\", row_averages)\n",
        "print(\"Column-wise averages:\", column_averages)\n"
      ],
      "metadata": {
        "colab": {
          "base_uri": "https://localhost:8080/"
        },
        "id": "nQ9sJr_NQerO",
        "outputId": "70b9148b-4612-4e29-dc0e-0abf420e871d"
      },
      "execution_count": null,
      "outputs": [
        {
          "output_type": "stream",
          "name": "stdout",
          "text": [
            "Row-wise averages: [ 7.5   9.5   8.75 10.25]\n",
            "Column-wise averages: [12.   10.25  8.75  5.  ]\n"
          ]
        }
      ]
    },
    {
      "cell_type": "code",
      "source": [
        "import numpy as np\n",
        "\n",
        "data = [[[ '1', '1', '1'], ['1', '1', '1'], ['1', '1', '1']],\n",
        "        [['1', '1', '1'], ['1', '1', '1'], ['1', '1', '1']],\n",
        "        [['1', '1', '1'], ['1', '1', '1'], ['1', '1', '1']],\n",
        "        [['2', '2', '2'], ['2', '2', '2'], ['2', '2', '2']],\n",
        "        [['2', '2', '2'], ['2', '2', '2'], ['2', '2', '2']],\n",
        "        [['2', '2', '2'], ['2', '2', '2'], ['2', '2', '2']]]\n",
        "\n",
        "# Convert the nested list structure into a NumPy array\n",
        "arr = np.array(data, dtype=int)\n",
        "\n",
        "# Calculate the average along the specified axis\n",
        "average1 = np.mean(arr, axis=0)\n",
        "average2 = np.mean(arr, axis=1)\n",
        "average3 = np.mean(arr, axis=2)\n",
        "\n",
        "print(\"Average along first axis:\\n\", average1)\n",
        "print(\"Average along second axis:\\n\", average2)\n",
        "print(\"Average along third axis:\\n\", average3)\n"
      ],
      "metadata": {
        "colab": {
          "base_uri": "https://localhost:8080/"
        },
        "id": "s2K_HKOXRRrt",
        "outputId": "953184d7-7eb3-4a5a-cef9-40c07553a81e"
      },
      "execution_count": null,
      "outputs": [
        {
          "output_type": "stream",
          "name": "stdout",
          "text": [
            "Average along first axis:\n",
            " [[1.5 1.5 1.5]\n",
            " [1.5 1.5 1.5]\n",
            " [1.5 1.5 1.5]]\n",
            "Average along second axis:\n",
            " [[1. 1. 1.]\n",
            " [1. 1. 1.]\n",
            " [1. 1. 1.]\n",
            " [2. 2. 2.]\n",
            " [2. 2. 2.]\n",
            " [2. 2. 2.]]\n",
            "Average along third axis:\n",
            " [[1. 1. 1.]\n",
            " [1. 1. 1.]\n",
            " [1. 1. 1.]\n",
            " [2. 2. 2.]\n",
            " [2. 2. 2.]\n",
            " [2. 2. 2.]]\n"
          ]
        }
      ]
    },
    {
      "cell_type": "code",
      "source": [
        "import numpy as np\n",
        "\n",
        "data = [[[ '1', '1', '1'], ['1', '1', '1'], ['1', '1', '1']],\n",
        "        [['1', '1', '1'], ['1', '1', '1'], ['1', '1', '1']],\n",
        "        [['1', '1', '1'], ['1', '1', '1'], ['1', '1', '1']],\n",
        "        [['2', '2', '2'], ['2', '2', '2'], ['2', '2', '2']],\n",
        "        [['2', '2', '2'], ['2', '2', '2'], ['2', '2', '2']],\n",
        "        [['2', '2', '2'], ['2', '2', '2'], ['2', '2', '2']]]\n",
        "\n",
        "# Convert the nested list structure into a NumPy array with integer data type\n",
        "array = np.array(data, dtype=int)\n",
        "\n",
        "# Calculate row-wise averages for each sub-matrix\n",
        "row_averages = np.mean(array, axis=2)\n",
        "\n",
        "# Calculate column-wise averages for each sub-matrix\n",
        "column_averages = np.mean(array, axis=1)\n",
        "\n",
        "print(\"Row-wise averages for each sub-matrix:\\n\", row_averages)\n",
        "print(\"Column-wise averages for each sub-matrix:\\n\", column_averages)\n"
      ],
      "metadata": {
        "colab": {
          "base_uri": "https://localhost:8080/"
        },
        "id": "jq8LGUu-RVjO",
        "outputId": "b8bd6281-ca99-414b-f866-e9b72a685ebe"
      },
      "execution_count": null,
      "outputs": [
        {
          "output_type": "stream",
          "name": "stdout",
          "text": [
            "Row-wise averages for each sub-matrix:\n",
            " [[1. 1. 1.]\n",
            " [1. 1. 1.]\n",
            " [1. 1. 1.]\n",
            " [2. 2. 2.]\n",
            " [2. 2. 2.]\n",
            " [2. 2. 2.]]\n",
            "Column-wise averages for each sub-matrix:\n",
            " [[1. 1. 1.]\n",
            " [1. 1. 1.]\n",
            " [1. 1. 1.]\n",
            " [2. 2. 2.]\n",
            " [2. 2. 2.]\n",
            " [2. 2. 2.]]\n"
          ]
        }
      ]
    },
    {
      "cell_type": "code",
      "source": [
        "Data = [[[4, 2, 5, 3]],\n",
        "        [[6, 3, 8, 3]],\n",
        "        [[1, 3, 9, 7]],\n",
        "        [[6, 8, 4, 7]],\n",
        "        [[6, 5, 6, 4]],\n",
        "        [[4, 8, 5, 4]]]\n",
        "import numpy as np\n",
        "\n",
        "# Convert the nested list structure into a NumPy array\n",
        "array = np.array(Data)\n",
        "\n",
        "# Calculate column-wise averages\n",
        "column_averages = np.mean(array, axis=0)\n",
        "\n",
        "print(\"Column-wise averages:\\n\", column_averages)\n"
      ],
      "metadata": {
        "colab": {
          "base_uri": "https://localhost:8080/"
        },
        "id": "mfvQMpzgTI5i",
        "outputId": "86e25f2a-b6e0-4c2d-a54f-62c7fd6e4f58"
      },
      "execution_count": null,
      "outputs": [
        {
          "output_type": "stream",
          "name": "stdout",
          "text": [
            "Column-wise averages:\n",
            " [[4.5        4.83333333 6.16666667 4.66666667]]\n"
          ]
        }
      ]
    },
    {
      "cell_type": "code",
      "source": [
        "import numpy as np\n",
        "\n",
        "Data = [[[4, 2, 5, 3]],\n",
        "        [[6, 3, 8, 3]],\n",
        "        [[1, 3, 9, 7]],\n",
        "        [[6, 8, 4, 7]],\n",
        "        [[6, 5, 6, 4]],\n",
        "        [[4, 8, 5, 4]]]\n",
        "\n",
        "# Convert the nested list structure into a NumPy array\n",
        "array = np.array(Data)\n",
        "\n",
        "# Calculate column-wise averages\n",
        "column_averages = np.mean(array, axis=0)\n",
        "column_averages = np.mean(array, axis=1)\n",
        "# Index the specific column average\n",
        "column_index = 1  # Change this to the desired column index\n",
        "specific_column_average = column_averages[1, column_index]\n",
        "\n",
        "print(f\"Average of column {column_index}:\", specific_column_average)\n"
      ],
      "metadata": {
        "colab": {
          "base_uri": "https://localhost:8080/"
        },
        "id": "3f9wCbKubDWM",
        "outputId": "c9d9fd97-836c-429a-e545-5593bf5b6667"
      },
      "execution_count": null,
      "outputs": [
        {
          "output_type": "stream",
          "name": "stdout",
          "text": [
            "Average of column 1: 3.0\n"
          ]
        }
      ]
    },
    {
      "cell_type": "code",
      "source": [
        "import numpy as np\n",
        "\n",
        "Data = [[[4, 2, 5, 3]],\n",
        "        [[6, 3, 8, 3]],\n",
        "        [[1, 3, 9, 7]],\n",
        "        [[6, 8, 4, 7]],\n",
        "        [[6, 5, 6, 4]],\n",
        "        [[4, 8, 5, 4]]]\n",
        "\n",
        "# Convert the nested list structure into a NumPy array\n",
        "array = np.array(Data)\n",
        "\n",
        "# Calculate column-wise averages\n",
        "column_averages = np.mean(array, axis=0)\n",
        "\n",
        "# Index the second column average (index 1)\n",
        "second_column_average = column_averages[0, 1]\n",
        "\n",
        "print(\"Average of the second column:\", second_column_average)\n"
      ],
      "metadata": {
        "colab": {
          "base_uri": "https://localhost:8080/"
        },
        "id": "Fajj8Ym2bD-Z",
        "outputId": "cbabd248-6384-4d27-bd0f-4a0fb0d4c733"
      },
      "execution_count": null,
      "outputs": [
        {
          "output_type": "stream",
          "name": "stdout",
          "text": [
            "Average of the second column: 4.833333333333333\n"
          ]
        }
      ]
    },
    {
      "cell_type": "code",
      "source": [
        "import numpy as np\n",
        "\n",
        "Data = [[[4, 2, 5, 3]],\n",
        "        [[6, 3, 8, 3]],\n",
        "        [[1, 3, 9, 7]],\n",
        "        [[6, 8, 4, 7]],\n",
        "        [[6, 5, 6, 4]],\n",
        "        [[4, 8, 5, 4]]]\n",
        "\n",
        "# Convert the nested list structure into a NumPy array\n",
        "array = np.array(Data)\n",
        "\n",
        "# Calculate column-wise averages\n",
        "column_averages = np.mean(array, axis=0)\n",
        "\n",
        "# Index the third column average (index 2)\n",
        "third_column_average = column_averages[0, 2]\n",
        "\n",
        "# Convert the average to a percentage\n",
        "third_column_average_percent = third_column_average * 100\n",
        "\n",
        "print(\"Average of the third column as a percentage:\", third_column_average_percent)\n"
      ],
      "metadata": {
        "colab": {
          "base_uri": "https://localhost:8080/"
        },
        "id": "7Fr94uuKbl84",
        "outputId": "2a92a1d0-597b-4988-f12b-752f7e923cc7"
      },
      "execution_count": null,
      "outputs": [
        {
          "output_type": "stream",
          "name": "stdout",
          "text": [
            "Average of the third column as a percentage: 616.6666666666667\n"
          ]
        }
      ]
    },
    {
      "cell_type": "code",
      "source": [
        "import numpy as np\n",
        "\n",
        "Data = [[[4, 2, 5, 3]],\n",
        "        [[6, 3, 8, 3]],\n",
        "        [[1, 3, 9, 7]],\n",
        "        [[6, 8, 4, 7]],\n",
        "        [[6, 5, 6, 4]],\n",
        "        [[4, 8, 5, 4]]]\n",
        "\n",
        "# Convert the nested list structure into a NumPy array\n",
        "array = np.array(Data)\n",
        "\n",
        "# Calculate column-wise averages\n",
        "column_averages = np.mean(array, axis=0)\n",
        "\n",
        "# Index the third column average (index 2)\n",
        "third_column_average = column_averages[0, 2]\n",
        "\n",
        "# Convert the average to a percentage and format as a string\n",
        "third_column_average_percent = \"{:.1f}%\".format(third_column_average * 100)\n",
        "\n",
        "print(\"Average of the third column as a percentage:\", third_column_average_percent)\n"
      ],
      "metadata": {
        "colab": {
          "base_uri": "https://localhost:8080/"
        },
        "id": "XtJDo_09ju3W",
        "outputId": "1fa930ec-cc71-44e2-f566-7c7d03b2a6a5"
      },
      "execution_count": null,
      "outputs": [
        {
          "output_type": "stream",
          "name": "stdout",
          "text": [
            "Average of the third column as a percentage: 616.7%\n"
          ]
        }
      ]
    },
    {
      "cell_type": "code",
      "source": [
        "import numpy as np\n",
        "\n",
        "Data = [[[4, 2, 5, 3]],\n",
        "        [[6, 3, 8, 3]],\n",
        "        [[1, 3, 9, 7]],\n",
        "        [[6, 8, 4, 7]],\n",
        "        [[6, 5, 6, 4]],\n",
        "        [[4, 8, 5, 4]]]\n",
        "\n",
        "# Convert the nested list structure into a NumPy array\n",
        "array = np.array(Data)\n",
        "\n",
        "# Calculate column-wise averages\n",
        "column_averages = np.mean(array, axis=0)\n",
        "\n",
        "# Index the third column average (index 2)\n",
        "third_column_average = column_averages[0, 2]\n",
        "\n",
        "print(\"Average of the third column:\", third_column_average)\n",
        "\n",
        "# Calculate the average percentage\n",
        "total_average = np.mean(array)\n",
        "average_percentage = (third_column_average / total_average) * 100\n",
        "\n",
        "print(\"Average percentage of the third column:\", average_percentage)\n"
      ],
      "metadata": {
        "colab": {
          "base_uri": "https://localhost:8080/"
        },
        "id": "lhgf3RB3j-Hb",
        "outputId": "62b8a1f4-51d5-4dc6-bcd7-f9439724fb0a"
      },
      "execution_count": null,
      "outputs": [
        {
          "output_type": "stream",
          "name": "stdout",
          "text": [
            "Average of the third column: 6.166666666666667\n",
            "Average percentage of the third column: 122.31404958677685\n"
          ]
        }
      ]
    },
    {
      "cell_type": "code",
      "source": [
        "import numpy as np\n",
        "\n",
        "Data = [[[4, 2, 5, 3]],\n",
        "        [[6, 3, 8, 3]],\n",
        "        [[1, 3, 9, 7]],\n",
        "        [[6, 8, 4, 7]],\n",
        "        [[6, 5, 6, 4]],\n",
        "        [[4, 8, 5, 4]]]\n",
        "\n",
        "# Convert the nested list structure into a NumPy array\n",
        "array = np.array(Data)\n",
        "\n",
        "# Calculate the sum of all values\n",
        "total_sum = np.sum(array)\n",
        "\n",
        "print(\"Sum of all values:\", total_sum)\n"
      ],
      "metadata": {
        "colab": {
          "base_uri": "https://localhost:8080/"
        },
        "id": "o4lknwsRlN0f",
        "outputId": "caf5e421-351f-4d4c-b1eb-51e17a592be9"
      },
      "execution_count": null,
      "outputs": [
        {
          "output_type": "stream",
          "name": "stdout",
          "text": [
            "Sum of all values: 121\n"
          ]
        }
      ]
    },
    {
      "cell_type": "code",
      "source": [
        "import numpy as np\n",
        "\n",
        "Data = [[[4, 2, 5, 3]],\n",
        "        [[6, 3, 8, 3]],\n",
        "        [[1, 3, 9, 7]],\n",
        "        [[6, 8, 4, 7]],\n",
        "        [[6, 5, 6, 4]],\n",
        "        [[4, 8, 5, 4]]]\n",
        "\n",
        "# Convert the nested list structure into a NumPy array\n",
        "array = np.array(Data)\n",
        "\n",
        "# Extract the third column (index 2)\n",
        "third_column = array[:, :, 2]\n",
        "\n",
        "# Calculate the sum of values in the third column\n",
        "total_average = np.sum(third_column)\n",
        "\n",
        "print(\"Sum of values in the third column:\", total_average)\n"
      ],
      "metadata": {
        "colab": {
          "base_uri": "https://localhost:8080/"
        },
        "id": "CtEiYyjZmj4c",
        "outputId": "ebce8915-aec9-469e-810d-64a6848aceb2"
      },
      "execution_count": null,
      "outputs": [
        {
          "output_type": "stream",
          "name": "stdout",
          "text": [
            "Sum of values in the third column: 37\n"
          ]
        }
      ]
    },
    {
      "cell_type": "code",
      "source": [
        "import numpy as np\n",
        "\n",
        "Data = [[[4, 2, 5, 3]],\n",
        "        [[6, 3, 8, 3]],\n",
        "        [[1, 3, 9, 7]],\n",
        "        [[6, 8, 4, 7]],\n",
        "        [[6, 5, 6, 4]],\n",
        "        [[4, 8, 5, 4]]]\n",
        "\n",
        "# Convert the nested list structure into a NumPy array\n",
        "array = np.array(Data)\n",
        "\n",
        "# Calculate column-wise averages\n",
        "column_averages = np.mean(array, axis=0)\n",
        "\n",
        "# Index the third column average (index 2)\n",
        "third_column_average = column_averages[0, 2]\n",
        "\n",
        "# Calculate the sum of values in the third column\n",
        "third_column_sum = np.sum(array[:, :, 2])\n",
        "\n",
        "# Calculate the total average of the entire array\n",
        "total_average = np.mean(array[:, :, 2])\n",
        "\n",
        "# Calculate the average percentage\n",
        "average_percentage = (third_column_average / third_column_sum ) * 100\n",
        "\n",
        "print(\"Average of the third column:\", third_column_average)\n",
        "print(\"Sum of values in the third column:\", third_column_sum)\n",
        "print(\"Average percentage:\", average_percentage)\n"
      ],
      "metadata": {
        "colab": {
          "base_uri": "https://localhost:8080/"
        },
        "id": "uTYcv5OsnjpS",
        "outputId": "97fb24a5-baca-4389-90d0-7c7d7ad60e44"
      },
      "execution_count": null,
      "outputs": [
        {
          "output_type": "stream",
          "name": "stdout",
          "text": [
            "Average of the third column: 6.166666666666667\n",
            "Sum of values in the third column: 37\n",
            "Average percentage: 16.666666666666668\n"
          ]
        }
      ]
    },
    {
      "cell_type": "code",
      "source": [],
      "metadata": {
        "id": "Z_vr9tc6oLqQ"
      },
      "execution_count": null,
      "outputs": []
    }
  ]
}